{
 "cells": [
  {
   "cell_type": "code",
   "execution_count": 1,
   "id": "b8cff0e5-b7d7-4dfe-8458-888a6cbbf242",
   "metadata": {},
   "outputs": [],
   "source": [
    "import pandas as pd"
   ]
  },
  {
   "cell_type": "code",
   "execution_count": 2,
   "id": "78a6dc5b-daac-4a85-84ee-afea42fabeb2",
   "metadata": {},
   "outputs": [],
   "source": [
    "%load_ext autoreload\n",
    "%autoreload 2"
   ]
  },
  {
   "cell_type": "code",
   "execution_count": 3,
   "id": "02db4fff-6d32-40a8-a99d-d47610978323",
   "metadata": {},
   "outputs": [],
   "source": [
    "import os, sys\n",
    "parent_dir = os.path.abspath('..')\n",
    "# the parent_dir could already be there if the kernel was not restarted,\n",
    "# and we run this cell again\n",
    "if parent_dir not in sys.path:\n",
    "    sys.path.append(parent_dir)"
   ]
  },
  {
   "cell_type": "code",
   "execution_count": 4,
   "id": "f072107b-16f5-4b67-ae20-8d820a99d3fe",
   "metadata": {},
   "outputs": [],
   "source": [
    "from mirror.ground import Ground"
   ]
  },
  {
   "cell_type": "code",
   "execution_count": 5,
   "id": "e3045636-5e97-43e6-95e7-1533a31826f2",
   "metadata": {},
   "outputs": [],
   "source": [
    "path_ground = \"./sample_ground.csv\""
   ]
  },
  {
   "cell_type": "code",
   "execution_count": 6,
   "id": "fa6027ba-f54e-42d1-a609-6d2f983ff927",
   "metadata": {},
   "outputs": [],
   "source": [
    "df_ground = pd.read_csv(filepath_or_buffer=path_ground, header=0)"
   ]
  },
  {
   "cell_type": "code",
   "execution_count": 17,
   "id": "9cf7f35d-576e-4147-ba13-f56f743bdecb",
   "metadata": {},
   "outputs": [
    {
     "data": {
      "text/html": [
       "<div>\n",
       "<style scoped>\n",
       "    .dataframe tbody tr th:only-of-type {\n",
       "        vertical-align: middle;\n",
       "    }\n",
       "\n",
       "    .dataframe tbody tr th {\n",
       "        vertical-align: top;\n",
       "    }\n",
       "\n",
       "    .dataframe thead th {\n",
       "        text-align: right;\n",
       "    }\n",
       "</style>\n",
       "<table border=\"1\" class=\"dataframe\">\n",
       "  <thead>\n",
       "    <tr style=\"text-align: right;\">\n",
       "      <th></th>\n",
       "      <th>ID1</th>\n",
       "      <th>ID2</th>\n",
       "      <th>Country</th>\n",
       "      <th>City</th>\n",
       "      <th>Street</th>\n",
       "    </tr>\n",
       "  </thead>\n",
       "  <tbody>\n",
       "    <tr>\n",
       "      <th>0</th>\n",
       "      <td>e2c42733-ebdf-4503-80a6-274dddc161d4</td>\n",
       "      <td>c77b17ae-1e16-4acd-b50a-65839594c516</td>\n",
       "      <td>Lithuania</td>\n",
       "      <td>Atlanta</td>\n",
       "      <td>Timber   Drive</td>\n",
       "    </tr>\n",
       "    <tr>\n",
       "      <th>1</th>\n",
       "      <td>e51b7339-9a6c-4f21-96f8-4813ae864685</td>\n",
       "      <td>fb138322-3e77-42c2-8c9f-e4bfb517cbeb</td>\n",
       "      <td>Barbados</td>\n",
       "      <td>Lyon</td>\n",
       "      <td>Bloomsbury  Vale</td>\n",
       "    </tr>\n",
       "    <tr>\n",
       "      <th>2</th>\n",
       "      <td>476bf72d-4b2f-426b-a83e-533df76b7e8a</td>\n",
       "      <td>ea12cf43-962e-492d-975b-a26d5cf8311e</td>\n",
       "      <td>Turkmenistan</td>\n",
       "      <td>Oklahoma City</td>\n",
       "      <td>Fawn Drive</td>\n",
       "    </tr>\n",
       "    <tr>\n",
       "      <th>3</th>\n",
       "      <td>42143bfe-36b8-4abd-b784-ed78e0b46852</td>\n",
       "      <td>d3df3757-81d3-4b2a-afb5-972150800fc1</td>\n",
       "      <td>Spain</td>\n",
       "      <td>Fayetteville</td>\n",
       "      <td>Champion  Hill</td>\n",
       "    </tr>\n",
       "    <tr>\n",
       "      <th>4</th>\n",
       "      <td>01b6e65c-8dd7-4ff2-b40a-f8ccc1a8a08b</td>\n",
       "      <td>3606d03d-69e1-430f-972d-cd8f40c345c3</td>\n",
       "      <td>Micronesia</td>\n",
       "      <td>Berlin</td>\n",
       "      <td>Birkbeck  Avenue</td>\n",
       "    </tr>\n",
       "  </tbody>\n",
       "</table>\n",
       "</div>"
      ],
      "text/plain": [
       "                                    ID1                                   ID2  \\\n",
       "0  e2c42733-ebdf-4503-80a6-274dddc161d4  c77b17ae-1e16-4acd-b50a-65839594c516   \n",
       "1  e51b7339-9a6c-4f21-96f8-4813ae864685  fb138322-3e77-42c2-8c9f-e4bfb517cbeb   \n",
       "2  476bf72d-4b2f-426b-a83e-533df76b7e8a  ea12cf43-962e-492d-975b-a26d5cf8311e   \n",
       "3  42143bfe-36b8-4abd-b784-ed78e0b46852  d3df3757-81d3-4b2a-afb5-972150800fc1   \n",
       "4  01b6e65c-8dd7-4ff2-b40a-f8ccc1a8a08b  3606d03d-69e1-430f-972d-cd8f40c345c3   \n",
       "\n",
       "        Country           City            Street  \n",
       "0     Lithuania        Atlanta    Timber   Drive  \n",
       "1      Barbados           Lyon  Bloomsbury  Vale  \n",
       "2  Turkmenistan  Oklahoma City        Fawn Drive  \n",
       "3         Spain   Fayetteville    Champion  Hill  \n",
       "4    Micronesia         Berlin  Birkbeck  Avenue  "
      ]
     },
     "execution_count": 17,
     "metadata": {},
     "output_type": "execute_result"
    }
   ],
   "source": [
    "df_ground.head()"
   ]
  },
  {
   "cell_type": "code",
   "execution_count": 8,
   "id": "d4069457-8163-4359-9734-4a9417f6471e",
   "metadata": {},
   "outputs": [],
   "source": [
    "ground = Ground(ground=df_ground, keys=[\"ID1\", \"ID2\"])"
   ]
  },
  {
   "cell_type": "code",
   "execution_count": 9,
   "id": "49cf4309-c9fb-4225-a964-3b73f2599d7a",
   "metadata": {},
   "outputs": [],
   "source": [
    "path_mirror = \"./sample_mirror.csv\"\n",
    "df_mirror = pd.read_csv(filepath_or_buffer=path_mirror, header=0)"
   ]
  },
  {
   "cell_type": "code",
   "execution_count": 10,
   "id": "42fad1fd-0027-416d-ab1d-e86bc63bc891",
   "metadata": {},
   "outputs": [],
   "source": [
    "from mirror.mirror import Mirror"
   ]
  },
  {
   "cell_type": "code",
   "execution_count": 11,
   "id": "f0c49ab7-ccf5-4433-8b66-5aa2617a1807",
   "metadata": {},
   "outputs": [],
   "source": [
    "mirror_01 = Mirror(ground, mirror=df_mirror)"
   ]
  },
  {
   "cell_type": "code",
   "execution_count": 18,
   "id": "8f299ffb-048f-42c1-886b-09d1e0de219d",
   "metadata": {},
   "outputs": [
    {
     "data": {
      "text/html": [
       "<div>\n",
       "<style scoped>\n",
       "    .dataframe tbody tr th:only-of-type {\n",
       "        vertical-align: middle;\n",
       "    }\n",
       "\n",
       "    .dataframe tbody tr th {\n",
       "        vertical-align: top;\n",
       "    }\n",
       "\n",
       "    .dataframe thead th {\n",
       "        text-align: right;\n",
       "    }\n",
       "</style>\n",
       "<table border=\"1\" class=\"dataframe\">\n",
       "  <thead>\n",
       "    <tr style=\"text-align: right;\">\n",
       "      <th></th>\n",
       "      <th>ID1</th>\n",
       "      <th>ID2</th>\n",
       "      <th>_mean</th>\n",
       "      <th>_merge</th>\n",
       "      <th>Country_ground</th>\n",
       "      <th>Country_mirror</th>\n",
       "      <th>Country</th>\n",
       "      <th>City_ground</th>\n",
       "      <th>City_mirror</th>\n",
       "      <th>City</th>\n",
       "      <th>Street_ground</th>\n",
       "      <th>Street_mirror</th>\n",
       "      <th>Street</th>\n",
       "    </tr>\n",
       "  </thead>\n",
       "  <tbody>\n",
       "    <tr>\n",
       "      <th>0</th>\n",
       "      <td>e2c42733-ebdf-4503-80a6-274dddc161d4</td>\n",
       "      <td>c77b17ae-1e16-4acd-b50a-65839594c516</td>\n",
       "      <td>1.0</td>\n",
       "      <td>both</td>\n",
       "      <td>Lithuania</td>\n",
       "      <td>Lithuania</td>\n",
       "      <td>1</td>\n",
       "      <td>Atlanta</td>\n",
       "      <td>Atlanta</td>\n",
       "      <td>1</td>\n",
       "      <td>Timber   Drive</td>\n",
       "      <td>Timber   Drive</td>\n",
       "      <td>1</td>\n",
       "    </tr>\n",
       "    <tr>\n",
       "      <th>1</th>\n",
       "      <td>e51b7339-9a6c-4f21-96f8-4813ae864685</td>\n",
       "      <td>fb138322-3e77-42c2-8c9f-e4bfb517cbeb</td>\n",
       "      <td>1.0</td>\n",
       "      <td>both</td>\n",
       "      <td>Barbados</td>\n",
       "      <td>Barbados</td>\n",
       "      <td>1</td>\n",
       "      <td>Lyon</td>\n",
       "      <td>Lyon</td>\n",
       "      <td>1</td>\n",
       "      <td>Bloomsbury  Vale</td>\n",
       "      <td>Bloomsbury  Vale</td>\n",
       "      <td>1</td>\n",
       "    </tr>\n",
       "    <tr>\n",
       "      <th>2</th>\n",
       "      <td>476bf72d-4b2f-426b-a83e-533df76b7e8a</td>\n",
       "      <td>ea12cf43-962e-492d-975b-a26d5cf8311e</td>\n",
       "      <td>1.0</td>\n",
       "      <td>both</td>\n",
       "      <td>Turkmenistan</td>\n",
       "      <td>Turkmenistan</td>\n",
       "      <td>1</td>\n",
       "      <td>Oklahoma City</td>\n",
       "      <td>Oklahoma City</td>\n",
       "      <td>1</td>\n",
       "      <td>Fawn Drive</td>\n",
       "      <td>Fawn Drive</td>\n",
       "      <td>1</td>\n",
       "    </tr>\n",
       "    <tr>\n",
       "      <th>3</th>\n",
       "      <td>42143bfe-36b8-4abd-b784-ed78e0b46852</td>\n",
       "      <td>d3df3757-81d3-4b2a-afb5-972150800fc1</td>\n",
       "      <td>1.0</td>\n",
       "      <td>both</td>\n",
       "      <td>Spain</td>\n",
       "      <td>Spain</td>\n",
       "      <td>1</td>\n",
       "      <td>Fayetteville</td>\n",
       "      <td>Fayetteville</td>\n",
       "      <td>1</td>\n",
       "      <td>Champion  Hill</td>\n",
       "      <td>Champion  Hill</td>\n",
       "      <td>1</td>\n",
       "    </tr>\n",
       "    <tr>\n",
       "      <th>4</th>\n",
       "      <td>01b6e65c-8dd7-4ff2-b40a-f8ccc1a8a08b</td>\n",
       "      <td>3606d03d-69e1-430f-972d-cd8f40c345c3</td>\n",
       "      <td>1.0</td>\n",
       "      <td>both</td>\n",
       "      <td>Micronesia</td>\n",
       "      <td>Micronesia</td>\n",
       "      <td>1</td>\n",
       "      <td>Berlin</td>\n",
       "      <td>Berlin</td>\n",
       "      <td>1</td>\n",
       "      <td>Birkbeck  Avenue</td>\n",
       "      <td>Birkbeck  Avenue</td>\n",
       "      <td>1</td>\n",
       "    </tr>\n",
       "  </tbody>\n",
       "</table>\n",
       "</div>"
      ],
      "text/plain": [
       "                                    ID1                                   ID2  \\\n",
       "0  e2c42733-ebdf-4503-80a6-274dddc161d4  c77b17ae-1e16-4acd-b50a-65839594c516   \n",
       "1  e51b7339-9a6c-4f21-96f8-4813ae864685  fb138322-3e77-42c2-8c9f-e4bfb517cbeb   \n",
       "2  476bf72d-4b2f-426b-a83e-533df76b7e8a  ea12cf43-962e-492d-975b-a26d5cf8311e   \n",
       "3  42143bfe-36b8-4abd-b784-ed78e0b46852  d3df3757-81d3-4b2a-afb5-972150800fc1   \n",
       "4  01b6e65c-8dd7-4ff2-b40a-f8ccc1a8a08b  3606d03d-69e1-430f-972d-cd8f40c345c3   \n",
       "\n",
       "   _mean _merge Country_ground Country_mirror  Country    City_ground  \\\n",
       "0    1.0   both      Lithuania      Lithuania        1        Atlanta   \n",
       "1    1.0   both       Barbados       Barbados        1           Lyon   \n",
       "2    1.0   both   Turkmenistan   Turkmenistan        1  Oklahoma City   \n",
       "3    1.0   both          Spain          Spain        1   Fayetteville   \n",
       "4    1.0   both     Micronesia     Micronesia        1         Berlin   \n",
       "\n",
       "     City_mirror  City     Street_ground     Street_mirror  Street  \n",
       "0        Atlanta     1    Timber   Drive    Timber   Drive       1  \n",
       "1           Lyon     1  Bloomsbury  Vale  Bloomsbury  Vale       1  \n",
       "2  Oklahoma City     1        Fawn Drive        Fawn Drive       1  \n",
       "3   Fayetteville     1    Champion  Hill    Champion  Hill       1  \n",
       "4         Berlin     1  Birkbeck  Avenue  Birkbeck  Avenue       1  "
      ]
     },
     "execution_count": 18,
     "metadata": {},
     "output_type": "execute_result"
    }
   ],
   "source": [
    "mirror_01.raw_map.head()"
   ]
  },
  {
   "cell_type": "code",
   "execution_count": 13,
   "id": "c8b40212-382a-4fe1-b4de-c6965c728c96",
   "metadata": {},
   "outputs": [
    {
     "data": {
      "text/plain": [
       "{'volume': {'ground': 500, 'mirror': 500},\n",
       " 'key_matching': {'matched': 500,\n",
       "  'unmatched_ground': 0,\n",
       "  'unmatched_mirror': 0},\n",
       " 'field_assertivity': {'Country': 99.4, 'City': 99.8, 'Street': 100.0}}"
      ]
     },
     "execution_count": 13,
     "metadata": {},
     "output_type": "execute_result"
    }
   ],
   "source": [
    "mirror_01.stats"
   ]
  },
  {
   "cell_type": "code",
   "execution_count": 14,
   "id": "7d8ae743-573f-476e-9588-97b83da389fb",
   "metadata": {},
   "outputs": [
    {
     "name": "stdout",
     "output_type": "stream",
     "text": [
      "VOLUMETRY:\n",
      "\t|- Ground truth: 500\n",
      "\t|- Mirror: 500\n",
      "\n",
      "KEY MATCHING:\n",
      "\t|- Matched keys: 500 (100%)\n",
      "\t|- Unmatched keys (ground): 0 (0%)\n",
      "\t|- Unmatched keys (mirror): 0 (0%)\n",
      "\n",
      "FIELD ASSERTIVITY: abs\n",
      "\t|- Country: 99.4\n",
      "\t|- City: 99.8\n",
      "\t|- Street: 100.0\n"
     ]
    }
   ],
   "source": [
    "mirror_01.print_stats()"
   ]
  },
  {
   "cell_type": "code",
   "execution_count": 28,
   "id": "41a89051-6436-438c-86e1-ee158a76e43f",
   "metadata": {},
   "outputs": [
    {
     "data": {
      "text/html": [
       "<div>\n",
       "<style scoped>\n",
       "    .dataframe tbody tr th:only-of-type {\n",
       "        vertical-align: middle;\n",
       "    }\n",
       "\n",
       "    .dataframe tbody tr th {\n",
       "        vertical-align: top;\n",
       "    }\n",
       "\n",
       "    .dataframe thead th {\n",
       "        text-align: right;\n",
       "    }\n",
       "</style>\n",
       "<table border=\"1\" class=\"dataframe\">\n",
       "  <thead>\n",
       "    <tr style=\"text-align: right;\">\n",
       "      <th></th>\n",
       "      <th>ID1</th>\n",
       "      <th>ID2</th>\n",
       "      <th>Country_ground</th>\n",
       "      <th>Country_mirror</th>\n",
       "      <th>Country</th>\n",
       "    </tr>\n",
       "  </thead>\n",
       "  <tbody>\n",
       "    <tr>\n",
       "      <th>11</th>\n",
       "      <td>7a9ed2bb-0709-40d0-be37-e8213b84f493</td>\n",
       "      <td>9bbfd181-0613-4b0a-95c4-db14b1f253ed</td>\n",
       "      <td>Dominican Republic</td>\n",
       "      <td>Dominican Repub</td>\n",
       "      <td>0</td>\n",
       "    </tr>\n",
       "    <tr>\n",
       "      <th>26</th>\n",
       "      <td>242146c4-5325-4401-bf79-9f9fccccfe92</td>\n",
       "      <td>126815a8-f7b6-4e05-a060-acb0788843ff</td>\n",
       "      <td>East Timor (Timor-Leste)</td>\n",
       "      <td>East Tim (Timor-Le)</td>\n",
       "      <td>0</td>\n",
       "    </tr>\n",
       "    <tr>\n",
       "      <th>47</th>\n",
       "      <td>4e7dcbe5-74fb-4780-b41b-b8e3597f3c40</td>\n",
       "      <td>17a94ffb-f6be-47d4-a9d4-d89be860bf47</td>\n",
       "      <td>The Gambia</td>\n",
       "      <td>The</td>\n",
       "      <td>0</td>\n",
       "    </tr>\n",
       "  </tbody>\n",
       "</table>\n",
       "</div>"
      ],
      "text/plain": [
       "                                     ID1  \\\n",
       "11  7a9ed2bb-0709-40d0-be37-e8213b84f493   \n",
       "26  242146c4-5325-4401-bf79-9f9fccccfe92   \n",
       "47  4e7dcbe5-74fb-4780-b41b-b8e3597f3c40   \n",
       "\n",
       "                                     ID2            Country_ground  \\\n",
       "11  9bbfd181-0613-4b0a-95c4-db14b1f253ed        Dominican Republic   \n",
       "26  126815a8-f7b6-4e05-a060-acb0788843ff  East Timor (Timor-Leste)   \n",
       "47  17a94ffb-f6be-47d4-a9d4-d89be860bf47                The Gambia   \n",
       "\n",
       "         Country_mirror  Country  \n",
       "11      Dominican Repub        0  \n",
       "26  East Tim (Timor-Le)        0  \n",
       "47                 The         0  "
      ]
     },
     "execution_count": 28,
     "metadata": {},
     "output_type": "execute_result"
    }
   ],
   "source": [
    "mirror_01.inspect_divergence_on_field(\"Country\")"
   ]
  },
  {
   "cell_type": "code",
   "execution_count": 16,
   "id": "32fe5e2a-5742-46ad-80b1-d1174d3f7c2a",
   "metadata": {},
   "outputs": [],
   "source": [
    "import seaborn as sns"
   ]
  },
  {
   "cell_type": "code",
   "execution_count": 24,
   "id": "424c260e-98b8-4fa6-a7f3-efc1fa0a79db",
   "metadata": {},
   "outputs": [
    {
     "data": {
      "text/plain": [
       "<AxesSubplot:>"
      ]
     },
     "execution_count": 24,
     "metadata": {},
     "output_type": "execute_result"
    },
    {
     "data": {
      "image/png": "[encoded data removed]",
      "text/plain": [
       "<Figure size 432x288 with 2 Axes>"
      ]
     },
     "metadata": {
      "needs_background": "light"
     },
     "output_type": "display_data"
    }
   ],
   "source": [
    "sns.heatmap(mirror_01.map[mirror_01.attributes])"
   ]
  },
  {
   "cell_type": "code",
   "execution_count": 23,
   "id": "6b3510d1-79fb-4e9c-8e41-95be8c6aabcb",
   "metadata": {},
   "outputs": [
    {
     "data": {
      "text/html": [
       "<div>\n",
       "<style scoped>\n",
       "    .dataframe tbody tr th:only-of-type {\n",
       "        vertical-align: middle;\n",
       "    }\n",
       "\n",
       "    .dataframe tbody tr th {\n",
       "        vertical-align: top;\n",
       "    }\n",
       "\n",
       "    .dataframe thead th {\n",
       "        text-align: right;\n",
       "    }\n",
       "</style>\n",
       "<table border=\"1\" class=\"dataframe\">\n",
       "  <thead>\n",
       "    <tr style=\"text-align: right;\">\n",
       "      <th></th>\n",
       "      <th>Country</th>\n",
       "      <th>City</th>\n",
       "      <th>Street</th>\n",
       "    </tr>\n",
       "  </thead>\n",
       "  <tbody>\n",
       "    <tr>\n",
       "      <th>0</th>\n",
       "      <td>1</td>\n",
       "      <td>1</td>\n",
       "      <td>1</td>\n",
       "    </tr>\n",
       "    <tr>\n",
       "      <th>1</th>\n",
       "      <td>1</td>\n",
       "      <td>1</td>\n",
       "      <td>1</td>\n",
       "    </tr>\n",
       "    <tr>\n",
       "      <th>2</th>\n",
       "      <td>1</td>\n",
       "      <td>1</td>\n",
       "      <td>1</td>\n",
       "    </tr>\n",
       "    <tr>\n",
       "      <th>3</th>\n",
       "      <td>1</td>\n",
       "      <td>1</td>\n",
       "      <td>1</td>\n",
       "    </tr>\n",
       "    <tr>\n",
       "      <th>4</th>\n",
       "      <td>1</td>\n",
       "      <td>1</td>\n",
       "      <td>1</td>\n",
       "    </tr>\n",
       "    <tr>\n",
       "      <th>...</th>\n",
       "      <td>...</td>\n",
       "      <td>...</td>\n",
       "      <td>...</td>\n",
       "    </tr>\n",
       "    <tr>\n",
       "      <th>495</th>\n",
       "      <td>1</td>\n",
       "      <td>1</td>\n",
       "      <td>1</td>\n",
       "    </tr>\n",
       "    <tr>\n",
       "      <th>496</th>\n",
       "      <td>1</td>\n",
       "      <td>1</td>\n",
       "      <td>1</td>\n",
       "    </tr>\n",
       "    <tr>\n",
       "      <th>497</th>\n",
       "      <td>1</td>\n",
       "      <td>1</td>\n",
       "      <td>1</td>\n",
       "    </tr>\n",
       "    <tr>\n",
       "      <th>498</th>\n",
       "      <td>1</td>\n",
       "      <td>1</td>\n",
       "      <td>1</td>\n",
       "    </tr>\n",
       "    <tr>\n",
       "      <th>499</th>\n",
       "      <td>1</td>\n",
       "      <td>1</td>\n",
       "      <td>1</td>\n",
       "    </tr>\n",
       "  </tbody>\n",
       "</table>\n",
       "<p>500 rows × 3 columns</p>\n",
       "</div>"
      ],
      "text/plain": [
       "     Country  City  Street\n",
       "0          1     1       1\n",
       "1          1     1       1\n",
       "2          1     1       1\n",
       "3          1     1       1\n",
       "4          1     1       1\n",
       "..       ...   ...     ...\n",
       "495        1     1       1\n",
       "496        1     1       1\n",
       "497        1     1       1\n",
       "498        1     1       1\n",
       "499        1     1       1\n",
       "\n",
       "[500 rows x 3 columns]"
      ]
     },
     "execution_count": 23,
     "metadata": {},
     "output_type": "execute_result"
    }
   ],
   "source": [
    "mirror_01.map[mirror_01.attributes]"
   ]
  },
  {
   "cell_type": "code",
   "execution_count": 29,
   "id": "be8e2e69-e59f-4427-a23e-59863c599159",
   "metadata": {},
   "outputs": [
    {
     "data": {
      "text/plain": [
       "\u001b[0;31mInit signature:\u001b[0m \u001b[0mMirror\u001b[0m\u001b[0;34m(\u001b[0m\u001b[0mground\u001b[0m\u001b[0;34m,\u001b[0m \u001b[0mmirror\u001b[0m\u001b[0;34m:\u001b[0m \u001b[0mpandas\u001b[0m\u001b[0;34m.\u001b[0m\u001b[0mcore\u001b[0m\u001b[0;34m.\u001b[0m\u001b[0mframe\u001b[0m\u001b[0;34m.\u001b[0m\u001b[0mDataFrame\u001b[0m\u001b[0;34m,\u001b[0m \u001b[0mscore\u001b[0m\u001b[0;34m=\u001b[0m\u001b[0;34m'abs'\u001b[0m\u001b[0;34m)\u001b[0m\u001b[0;34m\u001b[0m\u001b[0;34m\u001b[0m\u001b[0m\n",
       "\u001b[0;31mDocstring:\u001b[0m     \n",
       "Mirror main class.\n",
       "\n",
       "Parameters:\n",
       "    |- ground: Ground object.\n",
       "    |- mirror: Pandas Dataframe of the mirror dataset. Type: `pandas.DataFrame`\n",
       "    |- score (optional, default `abs`): Scoring method for assertivity evaluation. The following methods are suported:\n",
       "        a) \"abs\": binary comparison (0 for divergence, 1 for assertion)\n",
       "        b) \"sequence-matcher\":  implementation of `difflib.SequenceMatcher` algorithm\n",
       "\u001b[0;31mFile:\u001b[0m           ~/.dev/mirror/mirror/mirror.py\n",
       "\u001b[0;31mType:\u001b[0m           type\n",
       "\u001b[0;31mSubclasses:\u001b[0m     \n"
      ]
     },
     "metadata": {},
     "output_type": "display_data"
    }
   ],
   "source": [
    "Mirror?"
   ]
  },
  {
   "cell_type": "code",
   "execution_count": null,
   "id": "89a90b3a-01e9-40ab-8efc-bc38ea5d7032",
   "metadata": {},
   "outputs": [],
   "source": []
  }
 ],
 "metadata": {
  "kernelspec": {
   "display_name": "Python 3 (ipykernel)",
   "language": "python",
   "name": "python3"
  },
  "language_info": {
   "codemirror_mode": {
    "name": "ipython",
    "version": 3
   },
   "file_extension": ".py",
   "mimetype": "text/x-python",
   "name": "python",
   "nbconvert_exporter": "python",
   "pygments_lexer": "ipython3",
   "version": "3.10.4"
  }
 },
 "nbformat": 4,
 "nbformat_minor": 5
}
